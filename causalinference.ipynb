{
  "cells": [
    {
      "cell_type": "code",
      "execution_count": 16,
      "metadata": {},
      "outputs": [],
      "source": [
        "import pandas as pd\n",
        "from dowhy import CausalModel"
      ]
    },
    {
      "cell_type": "code",
      "execution_count": 22,
      "metadata": {},
      "outputs": [
        {
          "data": {
            "text/plain": [
              "outcome\n",
              "1    7077\n",
              "0    2923\n",
              "Name: count, dtype: int64"
            ]
          },
          "execution_count": 22,
          "metadata": {},
          "output_type": "execute_result"
        }
      ],
      "source": [
        "data = pd.read_csv('Data/N3C_data_10000_sample.csv')\n",
        "data['outcome'].value_counts()"
      ]
    },
    {
      "cell_type": "code",
      "execution_count": 24,
      "metadata": {},
      "outputs": [
        {
          "data": {
            "text/html": [
              "<div>\n",
              "<style scoped>\n",
              "    .dataframe tbody tr th:only-of-type {\n",
              "        vertical-align: middle;\n",
              "    }\n",
              "\n",
              "    .dataframe tbody tr th {\n",
              "        vertical-align: top;\n",
              "    }\n",
              "\n",
              "    .dataframe thead th {\n",
              "        text-align: right;\n",
              "    }\n",
              "</style>\n",
              "<table border=\"1\" class=\"dataframe\">\n",
              "  <thead>\n",
              "    <tr style=\"text-align: right;\">\n",
              "      <th></th>\n",
              "      <th>Unnamed: 0</th>\n",
              "      <th>conditions</th>\n",
              "      <th>age</th>\n",
              "      <th>severity_covid_death</th>\n",
              "      <th>outcome</th>\n",
              "      <th>zip</th>\n",
              "      <th>ethnicity_concept_id</th>\n",
              "      <th>gender_concept_id</th>\n",
              "      <th>race_concept_id</th>\n",
              "      <th>trazodone</th>\n",
              "      <th>...</th>\n",
              "      <th>vilazodone</th>\n",
              "      <th>vortioxetine</th>\n",
              "      <th>sertraline</th>\n",
              "      <th>bupropion</th>\n",
              "      <th>mirtazapine</th>\n",
              "      <th>desvenlafaxine</th>\n",
              "      <th>doxepin</th>\n",
              "      <th>duloxetine</th>\n",
              "      <th>escitalopram</th>\n",
              "      <th>nortriptyline</th>\n",
              "    </tr>\n",
              "  </thead>\n",
              "  <tbody>\n",
              "    <tr>\n",
              "      <th>5770</th>\n",
              "      <td>5771</td>\n",
              "      <td>[27674, 75860, 75909, 194133, 197320, 198263, ...</td>\n",
              "      <td>48.0</td>\n",
              "      <td>0</td>\n",
              "      <td>0</td>\n",
              "      <td>554</td>\n",
              "      <td>0.0</td>\n",
              "      <td>8507.0</td>\n",
              "      <td>0.0</td>\n",
              "      <td>0.0</td>\n",
              "      <td>...</td>\n",
              "      <td>0.0</td>\n",
              "      <td>0.0</td>\n",
              "      <td>0.0</td>\n",
              "      <td>1.0</td>\n",
              "      <td>0.0</td>\n",
              "      <td>0.0</td>\n",
              "      <td>0.0</td>\n",
              "      <td>0.0</td>\n",
              "      <td>0.0</td>\n",
              "      <td>0.0</td>\n",
              "    </tr>\n",
              "    <tr>\n",
              "      <th>5129</th>\n",
              "      <td>5130</td>\n",
              "      <td>[26662, 27674, 31967, 77670, 78832, 134736, 13...</td>\n",
              "      <td>59.0</td>\n",
              "      <td>0</td>\n",
              "      <td>0</td>\n",
              "      <td>42</td>\n",
              "      <td>38003564.0</td>\n",
              "      <td>8507.0</td>\n",
              "      <td>8527.0</td>\n",
              "      <td>0.0</td>\n",
              "      <td>...</td>\n",
              "      <td>0.0</td>\n",
              "      <td>0.0</td>\n",
              "      <td>0.0</td>\n",
              "      <td>0.0</td>\n",
              "      <td>0.0</td>\n",
              "      <td>0.0</td>\n",
              "      <td>0.0</td>\n",
              "      <td>0.0</td>\n",
              "      <td>0.0</td>\n",
              "      <td>0.0</td>\n",
              "    </tr>\n",
              "    <tr>\n",
              "      <th>9881</th>\n",
              "      <td>9882</td>\n",
              "      <td>[22340, 24134, 75860, 77670, 77734, 78619, 132...</td>\n",
              "      <td>61.0</td>\n",
              "      <td>0</td>\n",
              "      <td>0</td>\n",
              "      <td>0</td>\n",
              "      <td>0.0</td>\n",
              "      <td>0.0</td>\n",
              "      <td>0.0</td>\n",
              "      <td>0.0</td>\n",
              "      <td>...</td>\n",
              "      <td>0.0</td>\n",
              "      <td>0.0</td>\n",
              "      <td>0.0</td>\n",
              "      <td>0.0</td>\n",
              "      <td>0.0</td>\n",
              "      <td>0.0</td>\n",
              "      <td>0.0</td>\n",
              "      <td>0.0</td>\n",
              "      <td>0.0</td>\n",
              "      <td>0.0</td>\n",
              "    </tr>\n",
              "    <tr>\n",
              "      <th>7260</th>\n",
              "      <td>7261</td>\n",
              "      <td>[75909, 253797, 254761, 257012, 257683, 312437...</td>\n",
              "      <td>55.0</td>\n",
              "      <td>1</td>\n",
              "      <td>0</td>\n",
              "      <td>113</td>\n",
              "      <td>0.0</td>\n",
              "      <td>8507.0</td>\n",
              "      <td>0.0</td>\n",
              "      <td>0.0</td>\n",
              "      <td>...</td>\n",
              "      <td>0.0</td>\n",
              "      <td>0.0</td>\n",
              "      <td>0.0</td>\n",
              "      <td>0.0</td>\n",
              "      <td>0.0</td>\n",
              "      <td>0.0</td>\n",
              "      <td>0.0</td>\n",
              "      <td>0.0</td>\n",
              "      <td>0.0</td>\n",
              "      <td>0.0</td>\n",
              "    </tr>\n",
              "    <tr>\n",
              "      <th>7499</th>\n",
              "      <td>7500</td>\n",
              "      <td>[80502, 140673, 254761, 255573, 255848, 257004...</td>\n",
              "      <td>77.0</td>\n",
              "      <td>0</td>\n",
              "      <td>0</td>\n",
              "      <td>805</td>\n",
              "      <td>38003564.0</td>\n",
              "      <td>8532.0</td>\n",
              "      <td>8527.0</td>\n",
              "      <td>0.0</td>\n",
              "      <td>...</td>\n",
              "      <td>0.0</td>\n",
              "      <td>0.0</td>\n",
              "      <td>0.0</td>\n",
              "      <td>0.0</td>\n",
              "      <td>0.0</td>\n",
              "      <td>0.0</td>\n",
              "      <td>0.0</td>\n",
              "      <td>0.0</td>\n",
              "      <td>0.0</td>\n",
              "      <td>0.0</td>\n",
              "    </tr>\n",
              "  </tbody>\n",
              "</table>\n",
              "<p>5 rows × 25 columns</p>\n",
              "</div>"
            ],
            "text/plain": [
              "      Unnamed: 0                                         conditions   age  \\\n",
              "5770        5771  [27674, 75860, 75909, 194133, 197320, 198263, ...  48.0   \n",
              "5129        5130  [26662, 27674, 31967, 77670, 78832, 134736, 13...  59.0   \n",
              "9881        9882  [22340, 24134, 75860, 77670, 77734, 78619, 132...  61.0   \n",
              "7260        7261  [75909, 253797, 254761, 257012, 257683, 312437...  55.0   \n",
              "7499        7500  [80502, 140673, 254761, 255573, 255848, 257004...  77.0   \n",
              "\n",
              "      severity_covid_death  outcome  zip  ethnicity_concept_id  \\\n",
              "5770                     0        0  554                   0.0   \n",
              "5129                     0        0   42            38003564.0   \n",
              "9881                     0        0    0                   0.0   \n",
              "7260                     1        0  113                   0.0   \n",
              "7499                     0        0  805            38003564.0   \n",
              "\n",
              "      gender_concept_id  race_concept_id  trazodone  ...  vilazodone  \\\n",
              "5770             8507.0              0.0        0.0  ...         0.0   \n",
              "5129             8507.0           8527.0        0.0  ...         0.0   \n",
              "9881                0.0              0.0        0.0  ...         0.0   \n",
              "7260             8507.0              0.0        0.0  ...         0.0   \n",
              "7499             8532.0           8527.0        0.0  ...         0.0   \n",
              "\n",
              "      vortioxetine  sertraline  bupropion  mirtazapine  desvenlafaxine  \\\n",
              "5770           0.0         0.0        1.0          0.0             0.0   \n",
              "5129           0.0         0.0        0.0          0.0             0.0   \n",
              "9881           0.0         0.0        0.0          0.0             0.0   \n",
              "7260           0.0         0.0        0.0          0.0             0.0   \n",
              "7499           0.0         0.0        0.0          0.0             0.0   \n",
              "\n",
              "      doxepin  duloxetine  escitalopram  nortriptyline  \n",
              "5770      0.0         0.0           0.0            0.0  \n",
              "5129      0.0         0.0           0.0            0.0  \n",
              "9881      0.0         0.0           0.0            0.0  \n",
              "7260      0.0         0.0           0.0            0.0  \n",
              "7499      0.0         0.0           0.0            0.0  \n",
              "\n",
              "[5 rows x 25 columns]"
            ]
          },
          "execution_count": 24,
          "metadata": {},
          "output_type": "execute_result"
        }
      ],
      "source": [
        "# get few equal samples 0 and 1 of Outcome column\n",
        "data_0 = data[data['outcome'] == 0].sample(n=2500)\n",
        "data_1 = data[data['outcome'] == 1].sample(n=2500)\n",
        "\n",
        "data = pd.concat([data_0, data_1])\n",
        "\n",
        "data.head()\n"
      ]
    },
    {
      "cell_type": "code",
      "execution_count": 25,
      "metadata": {},
      "outputs": [],
      "source": [
        "# Define treatment, outcome, and covariates\n",
        "treatments = ['trazodone', 'amitriptyline', 'fluoxetine', 'citalopram', 'paroxetine',\n",
        "              'venlafaxine', 'vilazodone', 'vortioxetine', 'sertraline', 'bupropion',\n",
        "              'mirtazapine', 'desvenlafaxine', 'doxepin', 'duloxetine', 'escitalopram',\n",
        "              'nortriptyline']\n",
        "outcome = 'outcome'\n",
        "covariates = ['conditions', 'age', 'severity_covid_death', 'zip', 'ethnicity_concept_id',\n",
        "              'gender_concept_id', 'race_concept_id']\n",
        "\n",
        "# treatments = data.columns[9:]\n",
        "# covariates = data.columns[1:8]\n"
      ]
    },
    {
      "cell_type": "code",
      "execution_count": 26,
      "metadata": {},
      "outputs": [],
      "source": [
        "# Define the causal model\n",
        "models = {}\n",
        "for treatment in treatments:\n",
        "    model = CausalModel(\n",
        "        data=data,\n",
        "        treatment=treatment,\n",
        "        outcome=outcome,\n",
        "        common_causes=covariates\n",
        "    )\n",
        "    models[treatment] = model"
      ]
    },
    {
      "cell_type": "code",
      "execution_count": 27,
      "metadata": {},
      "outputs": [
        {
          "name": "stderr",
          "output_type": "stream",
          "text": [
            "c:\\Users\\devas\\miniconda3\\envs\\venv\\Lib\\site-packages\\dowhy\\causal_estimators\\regression_estimator.py:59: FutureWarning: Series.__getitem__ treating keys as positions is deprecated. In a future version, integer keys will always be treated as labels (consistent with DataFrame behavior). To access a value by position, use `ser.iloc[pos]`\n",
            "  intercept_parameter = self.model.params[0]\n"
          ]
        },
        {
          "name": "stdout",
          "output_type": "stream",
          "text": [
            "linear_regression\n",
            "{'control_value': 0, 'treatment_value': 1, 'test_significance': None, 'evaluate_effect_strength': False, 'confidence_intervals': False, 'target_units': 'ate', 'effect_modifiers': []}\n"
          ]
        },
        {
          "name": "stderr",
          "output_type": "stream",
          "text": [
            "c:\\Users\\devas\\miniconda3\\envs\\venv\\Lib\\site-packages\\dowhy\\causal_estimators\\regression_estimator.py:59: FutureWarning: Series.__getitem__ treating keys as positions is deprecated. In a future version, integer keys will always be treated as labels (consistent with DataFrame behavior). To access a value by position, use `ser.iloc[pos]`\n",
            "  intercept_parameter = self.model.params[0]\n"
          ]
        },
        {
          "name": "stdout",
          "output_type": "stream",
          "text": [
            "linear_regression\n",
            "{'control_value': 0, 'treatment_value': 1, 'test_significance': None, 'evaluate_effect_strength': False, 'confidence_intervals': False, 'target_units': 'ate', 'effect_modifiers': []}\n"
          ]
        },
        {
          "name": "stderr",
          "output_type": "stream",
          "text": [
            "c:\\Users\\devas\\miniconda3\\envs\\venv\\Lib\\site-packages\\dowhy\\causal_estimators\\regression_estimator.py:59: FutureWarning: Series.__getitem__ treating keys as positions is deprecated. In a future version, integer keys will always be treated as labels (consistent with DataFrame behavior). To access a value by position, use `ser.iloc[pos]`\n",
            "  intercept_parameter = self.model.params[0]\n"
          ]
        },
        {
          "name": "stdout",
          "output_type": "stream",
          "text": [
            "linear_regression\n",
            "{'control_value': 0, 'treatment_value': 1, 'test_significance': None, 'evaluate_effect_strength': False, 'confidence_intervals': False, 'target_units': 'ate', 'effect_modifiers': []}\n"
          ]
        },
        {
          "name": "stderr",
          "output_type": "stream",
          "text": [
            "c:\\Users\\devas\\miniconda3\\envs\\venv\\Lib\\site-packages\\dowhy\\causal_estimators\\regression_estimator.py:59: FutureWarning: Series.__getitem__ treating keys as positions is deprecated. In a future version, integer keys will always be treated as labels (consistent with DataFrame behavior). To access a value by position, use `ser.iloc[pos]`\n",
            "  intercept_parameter = self.model.params[0]\n"
          ]
        },
        {
          "name": "stdout",
          "output_type": "stream",
          "text": [
            "linear_regression\n",
            "{'control_value': 0, 'treatment_value': 1, 'test_significance': None, 'evaluate_effect_strength': False, 'confidence_intervals': False, 'target_units': 'ate', 'effect_modifiers': []}\n"
          ]
        },
        {
          "name": "stderr",
          "output_type": "stream",
          "text": [
            "c:\\Users\\devas\\miniconda3\\envs\\venv\\Lib\\site-packages\\dowhy\\causal_estimators\\regression_estimator.py:59: FutureWarning: Series.__getitem__ treating keys as positions is deprecated. In a future version, integer keys will always be treated as labels (consistent with DataFrame behavior). To access a value by position, use `ser.iloc[pos]`\n",
            "  intercept_parameter = self.model.params[0]\n"
          ]
        }
      ],
      "source": [
        "# Estimate Average Treatment Effect (ATE) for each treatment\n",
        "ate_results = {}\n",
        "for treatment, model in models.items():\n",
        "    identified_estimand = model.identify_effect()\n",
        "    estimate = model.estimate_effect(identified_estimand, method_name=\"backdoor.linear_regression\")\n",
        "    ate_results[treatment] = estimate.value\n"
      ]
    },
    {
      "cell_type": "code",
      "execution_count": 28,
      "metadata": {},
      "outputs": [
        {
          "name": "stdout",
          "output_type": "stream",
          "text": [
            "Average Treatment Effect (ATE) for trazodone: 11.822999429161511\n",
            "Average Treatment Effect (ATE) for amitriptyline: 0.35015132885829653\n",
            "Average Treatment Effect (ATE) for fluoxetine: 0.2975359341764095\n",
            "Average Treatment Effect (ATE) for citalopram: 0.2752558804858873\n",
            "Average Treatment Effect (ATE) for paroxetine: 52.85347927117868\n",
            "Average Treatment Effect (ATE) for venlafaxine: 0.36336337350474385\n",
            "Average Treatment Effect (ATE) for vilazodone: -0.035694814130993735\n",
            "Average Treatment Effect (ATE) for vortioxetine: 0.4790089948612051\n",
            "Average Treatment Effect (ATE) for sertraline: 11.237214614615532\n",
            "Average Treatment Effect (ATE) for bupropion: 11.865708879215116\n",
            "Average Treatment Effect (ATE) for mirtazapine: 0.11275680640695218\n",
            "Average Treatment Effect (ATE) for desvenlafaxine: 0.32245136699474153\n",
            "Average Treatment Effect (ATE) for doxepin: 0.3903635536708656\n",
            "Average Treatment Effect (ATE) for duloxetine: 6.932896862981771\n",
            "Average Treatment Effect (ATE) for escitalopram: 5.4058436887374\n",
            "Average Treatment Effect (ATE) for nortriptyline: 19.801300973331827\n"
          ]
        }
      ],
      "source": [
        "# Report Results\n",
        "for treatment, ate in ate_results.items():\n",
        "    print(f\"Average Treatment Effect (ATE) for {treatment}: {ate}\")"
      ]
    },
    {
      "cell_type": "code",
      "execution_count": null,
      "metadata": {},
      "outputs": [],
      "source": []
    }
  ],
  "metadata": {
    "colab": {
      "provenance": []
    },
    "kernelspec": {
      "display_name": "Python 3",
      "name": "python3"
    },
    "language_info": {
      "codemirror_mode": {
        "name": "ipython",
        "version": 3
      },
      "file_extension": ".py",
      "mimetype": "text/x-python",
      "name": "python",
      "nbconvert_exporter": "python",
      "pygments_lexer": "ipython3",
      "version": "3.12.1"
    }
  },
  "nbformat": 4,
  "nbformat_minor": 0
}
